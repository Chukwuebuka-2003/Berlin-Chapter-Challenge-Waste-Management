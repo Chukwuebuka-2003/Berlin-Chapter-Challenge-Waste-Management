{
 "cells": [
  {
   "cell_type": "code",
   "execution_count": 1,
   "metadata": {},
   "outputs": [],
   "source": [
    "import pandas as pd \n",
    "import numpy as np\n"
   ]
  },
  {
   "cell_type": "code",
   "execution_count": 3,
   "metadata": {},
   "outputs": [],
   "source": [
    "paths = {\n",
    "    \"E:\\\\mygit\\\\Berlin-Chapter-Challenge-Waste-Management\\\\src\\\\data\\\\3-clean data\\\\Data_Rework\\\\Geospatial Data\\\\Landfills\\\\complete_landfills.csv\" : \"landfills\",\n",
    "    \"E:\\\\mygit\\\\Berlin-Chapter-Challenge-Waste-Management\\\\src\\\\data\\\\3-clean data\\\\Data_Rework\\\\Geospatial Data\\\\Waste Disposal Centres\\\\complete_wastedisposalcentres.csv\" : \"waste disposal centres\",\n",
    "    \"E:\\\\mygit\\\\Berlin-Chapter-Challenge-Waste-Management\\\\src\\\\data\\\\3-clean data\\\\Data_Rework\\\\Geospatial Data\\\\Waste Transfer Stations\\\\complete_wastetransfercentres.csv\" : \"waste transfer stations\",\n",
    "}"
   ]
  },
  {
   "cell_type": "code",
   "execution_count": 2,
   "metadata": {},
   "outputs": [],
   "source": [
    "def concatenate_csv_files(csv_paths, output_file):\n",
    "    complete_df = pd.DataFrame()\n",
    "    \n",
    "    for csv_path, _ in csv_paths.items(): \n",
    "        df = pd.read_csv(csv_path)\n",
    "        complete_df = pd.concat([complete_df, df], ignore_index=True)\n",
    "        \n",
    "    complete_df.to_csv(output_file, index=False)"
   ]
  },
  {
   "cell_type": "code",
   "execution_count": 4,
   "metadata": {},
   "outputs": [],
   "source": [
    "output = \"complete_geospatialdata.csv\"\n",
    "concatenate_csv_files(paths,output)"
   ]
  },
  {
   "cell_type": "code",
   "execution_count": 5,
   "metadata": {},
   "outputs": [],
   "source": [
    "df = pd.read_csv(\"E:\\\\mygit\\\\Berlin-Chapter-Challenge-Waste-Management\\\\src\\\\data\\\\3-clean data\\\\Data_Rework\\\\Geospatial Data\\\\complete_geospatialdata.csv\")"
   ]
  },
  {
   "cell_type": "code",
   "execution_count": 6,
   "metadata": {},
   "outputs": [
    {
     "data": {
      "text/plain": [
       "(39192, 5)"
      ]
     },
     "execution_count": 6,
     "metadata": {},
     "output_type": "execute_result"
    }
   ],
   "source": [
    "df.shape"
   ]
  },
  {
   "cell_type": "code",
   "execution_count": 7,
   "metadata": {},
   "outputs": [],
   "source": [
    "df.dropna(subset=['id', 'lat', 'lon'], inplace=True)"
   ]
  },
  {
   "cell_type": "code",
   "execution_count": 8,
   "metadata": {},
   "outputs": [
    {
     "data": {
      "text/plain": [
       "(39028, 5)"
      ]
     },
     "execution_count": 8,
     "metadata": {},
     "output_type": "execute_result"
    }
   ],
   "source": [
    "df.shape"
   ]
  },
  {
   "cell_type": "code",
   "execution_count": 9,
   "metadata": {},
   "outputs": [],
   "source": [
    "df.to_csv(\"E:\\\\mygit\\\\Berlin-Chapter-Challenge-Waste-Management\\\\src\\\\data\\\\3-clean data\\\\Data_Rework\\\\Geospatial Data\\\\complete_geospatialdata.csv\")"
   ]
  }
 ],
 "metadata": {
  "kernelspec": {
   "display_name": "Python 3",
   "language": "python",
   "name": "python3"
  },
  "language_info": {
   "codemirror_mode": {
    "name": "ipython",
    "version": 3
   },
   "file_extension": ".py",
   "mimetype": "text/x-python",
   "name": "python",
   "nbconvert_exporter": "python",
   "pygments_lexer": "ipython3",
   "version": "3.11.0"
  },
  "orig_nbformat": 4
 },
 "nbformat": 4,
 "nbformat_minor": 2
}
