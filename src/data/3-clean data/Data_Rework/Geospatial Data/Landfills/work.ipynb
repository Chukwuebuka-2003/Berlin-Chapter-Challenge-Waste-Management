{
 "cells": [
  {
   "cell_type": "code",
   "execution_count": 86,
   "metadata": {},
   "outputs": [],
   "source": [
    "import json\n",
    "import pandas as pd"
   ]
  },
  {
   "cell_type": "code",
   "execution_count": 131,
   "metadata": {},
   "outputs": [],
   "source": [
    "with open('E:\\\\mygit\\\\Berlin-Chapter-Challenge-Waste-Management\\\\src\\\\data\\\\1-raw data\\\\Geospatial Data\\\\landfills\\\\Landfill_Hamburg(DE-HH).json', \n",
    "          'r', encoding='utf-8') as json_file:\n",
    "    data = json.load(json_file)"
   ]
  },
  {
   "cell_type": "code",
   "execution_count": 132,
   "metadata": {},
   "outputs": [],
   "source": [
    "\n",
    "new_data_list = []\n",
    "\n",
    "for entry in data[\"elements\"]:\n",
    "    new_entry = {\n",
    "        **entry.get(\"tags\", {}),  \n",
    "        \"type\": entry.get(\"type\", None),  \n",
    "        \"id\": entry.get(\"id\", None), \n",
    "        \"lat\": entry.get(\"lat\", None),  \n",
    "        \"lon\": entry.get(\"lon\", None), \n",
    "    }\n",
    "    new_data_list.append(new_entry)\n"
   ]
  },
  {
   "cell_type": "code",
   "execution_count": 133,
   "metadata": {},
   "outputs": [],
   "source": [
    "df = pd.DataFrame(new_data_list)"
   ]
  },
  {
   "cell_type": "code",
   "execution_count": 134,
   "metadata": {},
   "outputs": [
    {
     "data": {
      "text/plain": [
       "(213, 74)"
      ]
     },
     "execution_count": 134,
     "metadata": {},
     "output_type": "execute_result"
    }
   ],
   "source": [
    "df.shape"
   ]
  },
  {
   "cell_type": "code",
   "execution_count": 135,
   "metadata": {},
   "outputs": [
    {
     "data": {
      "text/html": [
       "<div>\n",
       "<style scoped>\n",
       "    .dataframe tbody tr th:only-of-type {\n",
       "        vertical-align: middle;\n",
       "    }\n",
       "\n",
       "    .dataframe tbody tr th {\n",
       "        vertical-align: top;\n",
       "    }\n",
       "\n",
       "    .dataframe thead th {\n",
       "        text-align: right;\n",
       "    }\n",
       "</style>\n",
       "<table border=\"1\" class=\"dataframe\">\n",
       "  <thead>\n",
       "    <tr style=\"text-align: right;\">\n",
       "      <th></th>\n",
       "      <th>landuse</th>\n",
       "      <th>type</th>\n",
       "      <th>id</th>\n",
       "      <th>lat</th>\n",
       "      <th>lon</th>\n",
       "      <th>barrier</th>\n",
       "      <th>name</th>\n",
       "      <th>informal</th>\n",
       "      <th>landfill:waste</th>\n",
       "      <th>ISO3166-2</th>\n",
       "      <th>...</th>\n",
       "      <th>ref:nuts:3</th>\n",
       "      <th>short_name</th>\n",
       "      <th>source</th>\n",
       "      <th>wikidata</th>\n",
       "      <th>wikipedia</th>\n",
       "      <th>de:name_index_city</th>\n",
       "      <th>de:place</th>\n",
       "      <th>description</th>\n",
       "      <th>land_area</th>\n",
       "      <th>name:prefix:de</th>\n",
       "    </tr>\n",
       "  </thead>\n",
       "  <tbody>\n",
       "    <tr>\n",
       "      <th>0</th>\n",
       "      <td>landfill</td>\n",
       "      <td>way</td>\n",
       "      <td>54173496</td>\n",
       "      <td>NaN</td>\n",
       "      <td>NaN</td>\n",
       "      <td>NaN</td>\n",
       "      <td>NaN</td>\n",
       "      <td>NaN</td>\n",
       "      <td>NaN</td>\n",
       "      <td>NaN</td>\n",
       "      <td>...</td>\n",
       "      <td>NaN</td>\n",
       "      <td>NaN</td>\n",
       "      <td>NaN</td>\n",
       "      <td>NaN</td>\n",
       "      <td>NaN</td>\n",
       "      <td>NaN</td>\n",
       "      <td>NaN</td>\n",
       "      <td>NaN</td>\n",
       "      <td>NaN</td>\n",
       "      <td>NaN</td>\n",
       "    </tr>\n",
       "    <tr>\n",
       "      <th>1</th>\n",
       "      <td>landfill</td>\n",
       "      <td>way</td>\n",
       "      <td>62140227</td>\n",
       "      <td>NaN</td>\n",
       "      <td>NaN</td>\n",
       "      <td>fence</td>\n",
       "      <td>NaN</td>\n",
       "      <td>NaN</td>\n",
       "      <td>NaN</td>\n",
       "      <td>NaN</td>\n",
       "      <td>...</td>\n",
       "      <td>NaN</td>\n",
       "      <td>NaN</td>\n",
       "      <td>NaN</td>\n",
       "      <td>NaN</td>\n",
       "      <td>NaN</td>\n",
       "      <td>NaN</td>\n",
       "      <td>NaN</td>\n",
       "      <td>NaN</td>\n",
       "      <td>NaN</td>\n",
       "      <td>NaN</td>\n",
       "    </tr>\n",
       "    <tr>\n",
       "      <th>2</th>\n",
       "      <td>landfill</td>\n",
       "      <td>way</td>\n",
       "      <td>101396796</td>\n",
       "      <td>NaN</td>\n",
       "      <td>NaN</td>\n",
       "      <td>NaN</td>\n",
       "      <td>Spülfeld Moorburg-Ost</td>\n",
       "      <td>NaN</td>\n",
       "      <td>NaN</td>\n",
       "      <td>NaN</td>\n",
       "      <td>...</td>\n",
       "      <td>NaN</td>\n",
       "      <td>NaN</td>\n",
       "      <td>NaN</td>\n",
       "      <td>NaN</td>\n",
       "      <td>NaN</td>\n",
       "      <td>NaN</td>\n",
       "      <td>NaN</td>\n",
       "      <td>NaN</td>\n",
       "      <td>NaN</td>\n",
       "      <td>NaN</td>\n",
       "    </tr>\n",
       "    <tr>\n",
       "      <th>3</th>\n",
       "      <td>landfill</td>\n",
       "      <td>way</td>\n",
       "      <td>101396818</td>\n",
       "      <td>NaN</td>\n",
       "      <td>NaN</td>\n",
       "      <td>NaN</td>\n",
       "      <td>Spülfeld Moorburg-Mitte</td>\n",
       "      <td>NaN</td>\n",
       "      <td>NaN</td>\n",
       "      <td>NaN</td>\n",
       "      <td>...</td>\n",
       "      <td>NaN</td>\n",
       "      <td>NaN</td>\n",
       "      <td>NaN</td>\n",
       "      <td>NaN</td>\n",
       "      <td>NaN</td>\n",
       "      <td>NaN</td>\n",
       "      <td>NaN</td>\n",
       "      <td>NaN</td>\n",
       "      <td>NaN</td>\n",
       "      <td>NaN</td>\n",
       "    </tr>\n",
       "    <tr>\n",
       "      <th>4</th>\n",
       "      <td>landfill</td>\n",
       "      <td>way</td>\n",
       "      <td>101712461</td>\n",
       "      <td>NaN</td>\n",
       "      <td>NaN</td>\n",
       "      <td>NaN</td>\n",
       "      <td>Schlick-Deponie Feldhofe</td>\n",
       "      <td>NaN</td>\n",
       "      <td>NaN</td>\n",
       "      <td>NaN</td>\n",
       "      <td>...</td>\n",
       "      <td>NaN</td>\n",
       "      <td>NaN</td>\n",
       "      <td>NaN</td>\n",
       "      <td>NaN</td>\n",
       "      <td>NaN</td>\n",
       "      <td>NaN</td>\n",
       "      <td>NaN</td>\n",
       "      <td>NaN</td>\n",
       "      <td>NaN</td>\n",
       "      <td>NaN</td>\n",
       "    </tr>\n",
       "  </tbody>\n",
       "</table>\n",
       "<p>5 rows × 74 columns</p>\n",
       "</div>"
      ],
      "text/plain": [
       "    landuse type         id  lat  lon barrier                      name   \n",
       "0  landfill  way   54173496  NaN  NaN     NaN                       NaN  \\\n",
       "1  landfill  way   62140227  NaN  NaN   fence                       NaN   \n",
       "2  landfill  way  101396796  NaN  NaN     NaN     Spülfeld Moorburg-Ost   \n",
       "3  landfill  way  101396818  NaN  NaN     NaN   Spülfeld Moorburg-Mitte   \n",
       "4  landfill  way  101712461  NaN  NaN     NaN  Schlick-Deponie Feldhofe   \n",
       "\n",
       "  informal landfill:waste ISO3166-2  ... ref:nuts:3 short_name source   \n",
       "0      NaN            NaN       NaN  ...        NaN        NaN    NaN  \\\n",
       "1      NaN            NaN       NaN  ...        NaN        NaN    NaN   \n",
       "2      NaN            NaN       NaN  ...        NaN        NaN    NaN   \n",
       "3      NaN            NaN       NaN  ...        NaN        NaN    NaN   \n",
       "4      NaN            NaN       NaN  ...        NaN        NaN    NaN   \n",
       "\n",
       "  wikidata wikipedia de:name_index_city de:place description land_area   \n",
       "0      NaN       NaN                NaN      NaN         NaN       NaN  \\\n",
       "1      NaN       NaN                NaN      NaN         NaN       NaN   \n",
       "2      NaN       NaN                NaN      NaN         NaN       NaN   \n",
       "3      NaN       NaN                NaN      NaN         NaN       NaN   \n",
       "4      NaN       NaN                NaN      NaN         NaN       NaN   \n",
       "\n",
       "  name:prefix:de  \n",
       "0            NaN  \n",
       "1            NaN  \n",
       "2            NaN  \n",
       "3            NaN  \n",
       "4            NaN  \n",
       "\n",
       "[5 rows x 74 columns]"
      ]
     },
     "execution_count": 135,
     "metadata": {},
     "output_type": "execute_result"
    }
   ],
   "source": [
    "df.head()"
   ]
  },
  {
   "cell_type": "code",
   "execution_count": 136,
   "metadata": {},
   "outputs": [
    {
     "data": {
      "text/plain": [
       "landuse               204\n",
       "type                    0\n",
       "id                      0\n",
       "lat                    11\n",
       "lon                    11\n",
       "                     ... \n",
       "de:name_index_city    212\n",
       "de:place              212\n",
       "description           212\n",
       "land_area             212\n",
       "name:prefix:de        212\n",
       "Length: 74, dtype: int64"
      ]
     },
     "execution_count": 136,
     "metadata": {},
     "output_type": "execute_result"
    }
   ],
   "source": [
    "df.isnull().sum()"
   ]
  },
  {
   "cell_type": "code",
   "execution_count": 137,
   "metadata": {},
   "outputs": [],
   "source": [
    "df.dropna(subset=['lat', 'lon'], inplace=True)"
   ]
  },
  {
   "cell_type": "code",
   "execution_count": 138,
   "metadata": {},
   "outputs": [],
   "source": [
    "df.to_csv('Landfills_Hamburg(DE-HH).csv', index=False)"
   ]
  }
 ],
 "metadata": {
  "kernelspec": {
   "display_name": "Python 3",
   "language": "python",
   "name": "python3"
  },
  "language_info": {
   "codemirror_mode": {
    "name": "ipython",
    "version": 3
   },
   "file_extension": ".py",
   "mimetype": "text/x-python",
   "name": "python",
   "nbconvert_exporter": "python",
   "pygments_lexer": "ipython3",
   "version": "3.11.0"
  },
  "orig_nbformat": 4
 },
 "nbformat": 4,
 "nbformat_minor": 2
}
